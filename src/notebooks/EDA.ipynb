{
 "cells": [
  {
   "cell_type": "markdown",
   "metadata": {},
   "source": [
    "### todo: collect ideas for the EDA\n",
    "- what do we want to analyse\n",
    "- what story we want to tell with the data\n",
    "- which questions we try to answer with our analysis?"
   ]
  },
  {
   "cell_type": "markdown",
   "metadata": {},
   "source": [
    "Wir haben schon die Aufgabe 2 von hr. Hoffman, die fest vorgegeben ist, aber uns als inpiration dienen kann für weitere Ideen. "
   ]
  },
  {
   "cell_type": "code",
   "execution_count": 68,
   "metadata": {
    "vscode": {
     "languageId": "plaintext"
    }
   },
   "outputs": [
    {
     "data": {
      "text/plain": [
       "np.int64(3421081)"
      ]
     },
     "execution_count": 68,
     "metadata": {},
     "output_type": "execute_result"
    }
   ],
   "source": [
    "import pandas as pd \n",
    "\n",
    "df = pd.read_csv(\"../../Daten/oders_s.csv\")\n",
    "\n",
    "#df[\"order_dow\"].isna().unique()\n",
    "df.order_id.max()"
   ]
  },
  {
   "cell_type": "code",
   "execution_count": null,
   "metadata": {},
   "outputs": [],
   "source": []
  },
  {
   "cell_type": "markdown",
   "metadata": {},
   "source": [
    "Ideen JD:\n",
    "\n",
    "- model bauen um Trinkgeld vorherzusagen. Kann man aus einer Bestellung vorhersagen ob es Trinkgeld gibt?\n",
    "- Welche Produkte binden Kunden am ehesten? Welche Produkte erhöhen die wahrscheinlichkeit, dass ein Kunde weitere male einkauft?\n",
    "- Welche Produktktegorien sind am beliebtesten?\n",
    "- Welche Produkte sind die beliebtesten in jeder Kategorie?\n",
    "- Welchen Anteil haben jedweils die Kategorien an den  ordern?\n",
    "- Welche Produkte werden oft gemeinsam gekauft? (Empfehlungssystem aufbauen)\n",
    "- Gibt es Produkte/Kategorien die saisonale schwanungen haben?\n",
    "- Werden bestimmte Produktkategorien oft kombiniert?\n",
    "- Gibt es Wochentage und Tageszeit an denen besonders viel aktivität ist?\n",
    "- Welche Gänge sind die beliebtesten? -> Handlungsempfehlungen ableiten wo diese Gänge im Supermarkt platziert werden\n",
    "- Gibt es zeitlichen unterschied von Produkten in ihrem Absatz? werden zb manche Artikel eher morgens oder abends gekauft? \n",
    "- Welche Produkte stehen häufig am anfang in einer bestellung welche am ende? -> man könnte daraus Ableiten, dass vordere Produkte die Kunden auf die Seite bringen und die Produkte die sich eher hinten befinden spontan käufe sind\n",
    "\n",
    "\n",
    "data stories:\n",
    "\n",
    "- Welche Produkte sollten besonders hervorgehoben werden im Shop?\n",
    "- Gibt es Produkte/Kategorien die Trenden? \n",
    "- Wie sollten die aisles in einem Supermarkt angeordnet werden (Welche Produkte am eingang, welche im hibteren Teil des Stores)\n",
    "- Welche Produkte/Kategorien/aisles sollten nahe beieinanderstehen im Store/Website\n",
    "- Wie haben sich die Bestellungen mit der Zeit verändert?\n",
    "- In welchem Ausmaß sind Stammkunden wichtig für den Umsatz?\n",
    "- Aufgabe3 "
   ]
  },
  {
   "cell_type": "markdown",
   "metadata": {},
   "source": []
  }
 ],
 "metadata": {
  "kernelspec": {
   "display_name": "DABI1",
   "language": "python",
   "name": "dabi1"
  },
  "language_info": {
   "codemirror_mode": {
    "name": "ipython",
    "version": 3
   },
   "file_extension": ".py",
   "mimetype": "text/x-python",
   "name": "python",
   "nbconvert_exporter": "python",
   "pygments_lexer": "ipython3",
   "version": "3.10.3"
  }
 },
 "nbformat": 4,
 "nbformat_minor": 4
}
