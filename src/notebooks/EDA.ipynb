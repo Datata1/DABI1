{
 "cells": [
  {
   "cell_type": "markdown",
   "metadata": {},
   "source": [
    "### todo: collect ideas for the EDA\n",
    "- what do we want to analyse\n",
    "- what story we want to tell with the data\n",
    "- which questions we try to answer with our analysis?"
   ]
  },
  {
   "cell_type": "markdown",
   "metadata": {},
   "source": [
    "Wir haben schon die Aufgabe 2 von hr. Hoffman, die fest vorgegeben ist, aber uns als inpiration dienen kann für weitere Ideen. "
   ]
  },
  {
   "cell_type": "code",
   "execution_count": null,
   "metadata": {
    "vscode": {
     "languageId": "plaintext"
    }
   },
   "outputs": [],
   "source": []
  }
 ],
 "metadata": {
  "language_info": {
   "name": "python"
  }
 },
 "nbformat": 4,
 "nbformat_minor": 2
}
